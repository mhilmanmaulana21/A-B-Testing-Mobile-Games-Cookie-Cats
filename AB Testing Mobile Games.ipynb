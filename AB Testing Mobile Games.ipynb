{
 "cells": [
  {
   "cell_type": "markdown",
   "id": "babd458a",
   "metadata": {},
   "source": [
    "# A/B Testing: Mobile Games Cookie Cats \n",
    "\n",
    "by **Muhammad Hilman Maulana** | last_update: July 2022"
   ]
  },
  {
   "cell_type": "markdown",
   "id": "4adac572",
   "metadata": {},
   "source": [
    "### Our Understanding"
   ]
  },
  {
   "cell_type": "markdown",
   "id": "8edc31fc",
   "metadata": {},
   "source": [
    "Marketing campaign penting dilakukan untuk mencapai tujuan bisnis. Marketing campaign dapat dilakukan melalui berbagai media, seperti misalnya emails, printed advertising, iklan TV dan radio, dan juga media sosial [(source)](https://blog.hubspot.com/marketing/marketing-campaigns). Pada saat ingin menjalankan marketing campaign, terlepas akan berjalan baik atau tidak, pasti akan ada dugaan seperti \"ide atau strategi manakah yang akan berjalan baik?\". Pun, tidak dapat dipungkiri, akan ada kekurangan resources, tools, atau mungkin motivasi untuk mengetes apakah ide/strategi yang telah kita siapkan akan berjalan sukses atau tidak. Oleh karena itu, hal ini yang membuat risky atau mungkin juga costly pada saat membuat strategi-strategi marketing campaign yang baru. "
   ]
  },
  {
   "cell_type": "markdown",
   "id": "30f050a4",
   "metadata": {},
   "source": [
    "A/B Testing memainkan peran yang begitu penting dalam hal pengambilan keputusan bisnis. A/B Testing sebetulnya merupakan suatu metode untuk membandingkan serta mengetes efektivitas dan juga benefits dari dua strategi bisnis yang berbeda. A/B Testing dapat juga diterjemahkan sebagai eksperimen dimana dua atau lebih strategi bisnis dijalankan dalam periode waktu tertentu kemudian hasil eksperimen tersebut dievaluasi untuk melihat strategi manakah yang berjalan paling baik (Hwang Yuun, 2019). "
   ]
  },
  {
   "cell_type": "markdown",
   "id": "fd4338ff",
   "metadata": {},
   "source": [
    "Sebagai contoh, misalkan goal kita adalah untuk meningkatkan open rate pada email marketing. Jika hipotesis kita adalah email dengan subject B akan menghasilkan nilai open rate yang maksimal dibandingkan dengan sebject email A, maka sebaiknya dilakukan A/B Testing untuk kedua subject email tersebut. Sederhananya, kita pilih secara acak sebagian pengguna yang akan dikirim email marketing dengan subject email A, kemudian hal yang sama untuk sebagian pengguna lain namun dengan subject email B. Test ini dilakukan dalam kurun periode waktu yang telah ditentukan (misal: satu minggu, dua minggu, satu bulan, dst). Setelah test dijalankan, kemudian kita menganalisis serta mengevaluasi hasil eksperimen apakah terdapat perbedaan yang signifikan diantara dua versi subject email tersebut. Dari hasil ini, kita dapat menentukan strategi marketing manakah (pemilihan subject email) yang bekerja paling baik diantara beberapa stratrgi lain (Hwang Yuun, 2019)."
   ]
  },
  {
   "cell_type": "markdown",
   "id": "8e666fdc",
   "metadata": {},
   "source": [
    "Namun A/B Testing kali ini tidak dilakukan pada data campaign marketing melainkan pada data mobile games: Cookie Cats. Cookie Cats merupakan salah satu puzzle games populer yang dikembangkan oleh Actile Entertainment. Dalam permainan ini, pemain akan menemui semacam \"gate\" yang mengharuskan pemain menunggu beberapa saat sebelum akhirnya memulai games. Pada project ini, akan dilakukan A/B Testing pada dua gate, yaitu gate_30 dan gate_40 untuk melihat bagaimana pengaruhnya terhadap sum_gamerounds pemain tersebut."
   ]
  },
  {
   "cell_type": "markdown",
   "id": "c92308e7",
   "metadata": {},
   "source": [
    "### Data Source"
   ]
  },
  {
   "cell_type": "markdown",
   "id": "5aaf0628",
   "metadata": {},
   "source": [
    "Data yang digunakan dapat diakses melalui [Mobile Games A/B Testing](https://www.kaggle.com/datasets/yufengsui/mobile-games-ab-testing) yang terdiri dari lima kolom, yaitu `'userid'`, `'version'`, `'sumgamerounds'`, `'retention_1'`, dan `'retention_7'`. Deskripsi lengkap terkait masing-masing kolom pada dataset tersebut dirangkum sbb.\n",
    "- userid: A unique number that identifies each player.\n",
    "- version: Whether the player was put in the control group (gate_30 - a gate at level 30) or the group with the moved gate (gate_40 - a gate at level 40).\n",
    "- sum_gamerounds: The number of game rounds played by the player during the first 14 days after install.\n",
    "- retention_1: Did the player come back and play 1 day after installing?.\n",
    "- retention_7: Did the player come back and play 7 days after installing?."
   ]
  },
  {
   "cell_type": "markdown",
   "id": "43956a4a",
   "metadata": {},
   "source": [
    "### Reference"
   ]
  },
  {
   "cell_type": "markdown",
   "id": "4412d2a1",
   "metadata": {},
   "source": [
    "Hwang, Y. H. (2019). Hands-On Data Science for Marketing. Birmingham: Packt Publishing Ltd."
   ]
  },
  {
   "cell_type": "markdown",
   "id": "8b40dcc6",
   "metadata": {},
   "source": [
    "### Data Cleaning & Overview"
   ]
  },
  {
   "cell_type": "code",
   "execution_count": 3,
   "id": "4d71bf60",
   "metadata": {},
   "outputs": [],
   "source": [
    "%matplotlib inline\n",
    "import pandas as pd\n",
    "import matplotlib.pyplot as plt\n",
    "import seaborn as sns\n",
    "import statsmodels.api as sm\n",
    "import warnings\n",
    "warnings.filterwarnings('ignore')"
   ]
  },
  {
   "cell_type": "code",
   "execution_count": 4,
   "id": "f4e0e7f7",
   "metadata": {},
   "outputs": [],
   "source": [
    "data = pd.read_csv(\"Dataset/cookie_cats.csv\")"
   ]
  },
  {
   "cell_type": "code",
   "execution_count": 5,
   "id": "b2880537",
   "metadata": {},
   "outputs": [
    {
     "data": {
      "text/html": [
       "<div>\n",
       "<style scoped>\n",
       "    .dataframe tbody tr th:only-of-type {\n",
       "        vertical-align: middle;\n",
       "    }\n",
       "\n",
       "    .dataframe tbody tr th {\n",
       "        vertical-align: top;\n",
       "    }\n",
       "\n",
       "    .dataframe thead th {\n",
       "        text-align: right;\n",
       "    }\n",
       "</style>\n",
       "<table border=\"1\" class=\"dataframe\">\n",
       "  <thead>\n",
       "    <tr style=\"text-align: right;\">\n",
       "      <th></th>\n",
       "      <th>userid</th>\n",
       "      <th>version</th>\n",
       "      <th>sum_gamerounds</th>\n",
       "      <th>retention_1</th>\n",
       "      <th>retention_7</th>\n",
       "    </tr>\n",
       "  </thead>\n",
       "  <tbody>\n",
       "    <tr>\n",
       "      <th>0</th>\n",
       "      <td>116</td>\n",
       "      <td>gate_30</td>\n",
       "      <td>3</td>\n",
       "      <td>False</td>\n",
       "      <td>False</td>\n",
       "    </tr>\n",
       "    <tr>\n",
       "      <th>1</th>\n",
       "      <td>337</td>\n",
       "      <td>gate_30</td>\n",
       "      <td>38</td>\n",
       "      <td>True</td>\n",
       "      <td>False</td>\n",
       "    </tr>\n",
       "    <tr>\n",
       "      <th>2</th>\n",
       "      <td>377</td>\n",
       "      <td>gate_40</td>\n",
       "      <td>165</td>\n",
       "      <td>True</td>\n",
       "      <td>False</td>\n",
       "    </tr>\n",
       "    <tr>\n",
       "      <th>3</th>\n",
       "      <td>483</td>\n",
       "      <td>gate_40</td>\n",
       "      <td>1</td>\n",
       "      <td>False</td>\n",
       "      <td>False</td>\n",
       "    </tr>\n",
       "    <tr>\n",
       "      <th>4</th>\n",
       "      <td>488</td>\n",
       "      <td>gate_40</td>\n",
       "      <td>179</td>\n",
       "      <td>True</td>\n",
       "      <td>True</td>\n",
       "    </tr>\n",
       "  </tbody>\n",
       "</table>\n",
       "</div>"
      ],
      "text/plain": [
       "   userid  version  sum_gamerounds  retention_1  retention_7\n",
       "0     116  gate_30               3        False        False\n",
       "1     337  gate_30              38         True        False\n",
       "2     377  gate_40             165         True        False\n",
       "3     483  gate_40               1        False        False\n",
       "4     488  gate_40             179         True         True"
      ]
     },
     "execution_count": 5,
     "metadata": {},
     "output_type": "execute_result"
    }
   ],
   "source": [
    "data.head()"
   ]
  },
  {
   "cell_type": "code",
   "execution_count": 6,
   "id": "4a99e7ee",
   "metadata": {},
   "outputs": [
    {
     "data": {
      "text/plain": [
       "(90189, 5)"
      ]
     },
     "execution_count": 6,
     "metadata": {},
     "output_type": "execute_result"
    }
   ],
   "source": [
    "data.shape"
   ]
  },
  {
   "cell_type": "code",
   "execution_count": 7,
   "id": "b37ab156",
   "metadata": {},
   "outputs": [
    {
     "name": "stdout",
     "output_type": "stream",
     "text": [
      "<class 'pandas.core.frame.DataFrame'>\n",
      "RangeIndex: 90189 entries, 0 to 90188\n",
      "Data columns (total 5 columns):\n",
      " #   Column          Non-Null Count  Dtype \n",
      "---  ------          --------------  ----- \n",
      " 0   userid          90189 non-null  int64 \n",
      " 1   version         90189 non-null  object\n",
      " 2   sum_gamerounds  90189 non-null  int64 \n",
      " 3   retention_1     90189 non-null  bool  \n",
      " 4   retention_7     90189 non-null  bool  \n",
      "dtypes: bool(2), int64(2), object(1)\n",
      "memory usage: 2.2+ MB\n"
     ]
    }
   ],
   "source": [
    "data.info()"
   ]
  },
  {
   "cell_type": "code",
   "execution_count": 8,
   "id": "92b15f3a",
   "metadata": {},
   "outputs": [
    {
     "data": {
      "text/plain": [
       "False"
      ]
     },
     "execution_count": 8,
     "metadata": {},
     "output_type": "execute_result"
    }
   ],
   "source": [
    "data.duplicated().any()"
   ]
  },
  {
   "cell_type": "code",
   "execution_count": 9,
   "id": "d3e05fe9",
   "metadata": {},
   "outputs": [
    {
     "data": {
      "text/plain": [
       "userid            0.0\n",
       "version           0.0\n",
       "sum_gamerounds    0.0\n",
       "retention_1       0.0\n",
       "retention_7       0.0\n",
       "dtype: float64"
      ]
     },
     "execution_count": 9,
     "metadata": {},
     "output_type": "execute_result"
    }
   ],
   "source": [
    "data.isnull().sum()/data.shape[0]*100"
   ]
  },
  {
   "cell_type": "markdown",
   "id": "1f12c76f",
   "metadata": {},
   "source": [
    "#### Key Takeaways\n",
    "- Data original terdiri dari 90189 baris dan 5 kolom.\n",
    "- Tidak terdapat duplikat data.\n",
    "- Tidak terdapat missing value.\n"
   ]
  },
  {
   "cell_type": "markdown",
   "id": "22dd78a6",
   "metadata": {},
   "source": [
    "### Data Analysis"
   ]
  },
  {
   "cell_type": "code",
   "execution_count": 19,
   "id": "a9799ac5",
   "metadata": {},
   "outputs": [
    {
     "data": {
      "text/html": [
       "<div>\n",
       "<style scoped>\n",
       "    .dataframe tbody tr th:only-of-type {\n",
       "        vertical-align: middle;\n",
       "    }\n",
       "\n",
       "    .dataframe tbody tr th {\n",
       "        vertical-align: top;\n",
       "    }\n",
       "\n",
       "    .dataframe thead th {\n",
       "        text-align: right;\n",
       "    }\n",
       "</style>\n",
       "<table border=\"1\" class=\"dataframe\">\n",
       "  <thead>\n",
       "    <tr style=\"text-align: right;\">\n",
       "      <th></th>\n",
       "      <th>sum_gamerounds</th>\n",
       "    </tr>\n",
       "  </thead>\n",
       "  <tbody>\n",
       "    <tr>\n",
       "      <th>count</th>\n",
       "      <td>90189.000000</td>\n",
       "    </tr>\n",
       "    <tr>\n",
       "      <th>mean</th>\n",
       "      <td>51.872457</td>\n",
       "    </tr>\n",
       "    <tr>\n",
       "      <th>std</th>\n",
       "      <td>195.050858</td>\n",
       "    </tr>\n",
       "    <tr>\n",
       "      <th>min</th>\n",
       "      <td>0.000000</td>\n",
       "    </tr>\n",
       "    <tr>\n",
       "      <th>25%</th>\n",
       "      <td>5.000000</td>\n",
       "    </tr>\n",
       "    <tr>\n",
       "      <th>50%</th>\n",
       "      <td>16.000000</td>\n",
       "    </tr>\n",
       "    <tr>\n",
       "      <th>75%</th>\n",
       "      <td>51.000000</td>\n",
       "    </tr>\n",
       "    <tr>\n",
       "      <th>max</th>\n",
       "      <td>49854.000000</td>\n",
       "    </tr>\n",
       "  </tbody>\n",
       "</table>\n",
       "</div>"
      ],
      "text/plain": [
       "       sum_gamerounds\n",
       "count    90189.000000\n",
       "mean        51.872457\n",
       "std        195.050858\n",
       "min          0.000000\n",
       "25%          5.000000\n",
       "50%         16.000000\n",
       "75%         51.000000\n",
       "max      49854.000000"
      ]
     },
     "execution_count": 19,
     "metadata": {},
     "output_type": "execute_result"
    }
   ],
   "source": [
    "pd.DataFrame(data[\"sum_gamerounds\"].describe())"
   ]
  },
  {
   "cell_type": "code",
   "execution_count": 11,
   "id": "669613f7",
   "metadata": {},
   "outputs": [
    {
     "data": {
      "image/png": "[encoded data removed]",
      "text/plain": [
       "<Figure size 504x360 with 1 Axes>"
      ]
     },
     "metadata": {
      "needs_background": "light"
     },
     "output_type": "display_data"
    }
   ],
   "source": [
    "plt.figure(figsize=(7,5)) \n",
    "plt.title(\"Proportion of version column\", fontsize = 12,fontweight=\"bold\")\n",
    "ax=sns.countplot(data[\"version\"], palette=\"mako\")\n",
    "plt.xlabel(\"Version\", fontsize = 11)\n",
    "plt.ylabel(\"Count\", fontsize = 11)\n",
    "total=len(data)\n",
    "for p in ax.patches:\n",
    "        ax.annotate(f'{100 * p.get_height() / total:.2f}%\\n', (p.get_x() + p.get_width() / 2,p.get_height()),ha='center', va='center',weight='bold')"
   ]
  },
  {
   "cell_type": "code",
   "execution_count": 12,
   "id": "67ab54e4",
   "metadata": {},
   "outputs": [],
   "source": [
    "data['retention_1_num'] = data['retention_1'].apply(lambda x: 0 if x == False else 1)"
   ]
  },
  {
   "cell_type": "code",
   "execution_count": 13,
   "id": "07e5826b",
   "metadata": {},
   "outputs": [],
   "source": [
    "data['retention_7_num'] = data['retention_7'].apply(lambda x: 0 if x == False else 1)"
   ]
  },
  {
   "cell_type": "code",
   "execution_count": 14,
   "id": "60cee72f",
   "metadata": {},
   "outputs": [
    {
     "data": {
      "text/html": [
       "<div>\n",
       "<style scoped>\n",
       "    .dataframe tbody tr th:only-of-type {\n",
       "        vertical-align: middle;\n",
       "    }\n",
       "\n",
       "    .dataframe tbody tr th {\n",
       "        vertical-align: top;\n",
       "    }\n",
       "\n",
       "    .dataframe thead th {\n",
       "        text-align: right;\n",
       "    }\n",
       "</style>\n",
       "<table border=\"1\" class=\"dataframe\">\n",
       "  <thead>\n",
       "    <tr style=\"text-align: right;\">\n",
       "      <th></th>\n",
       "      <th>userid</th>\n",
       "      <th>version</th>\n",
       "      <th>sum_gamerounds</th>\n",
       "      <th>retention_1</th>\n",
       "      <th>retention_7</th>\n",
       "      <th>retention_1_num</th>\n",
       "      <th>retention_7_num</th>\n",
       "    </tr>\n",
       "  </thead>\n",
       "  <tbody>\n",
       "    <tr>\n",
       "      <th>0</th>\n",
       "      <td>116</td>\n",
       "      <td>gate_30</td>\n",
       "      <td>3</td>\n",
       "      <td>False</td>\n",
       "      <td>False</td>\n",
       "      <td>0</td>\n",
       "      <td>0</td>\n",
       "    </tr>\n",
       "    <tr>\n",
       "      <th>1</th>\n",
       "      <td>337</td>\n",
       "      <td>gate_30</td>\n",
       "      <td>38</td>\n",
       "      <td>True</td>\n",
       "      <td>False</td>\n",
       "      <td>1</td>\n",
       "      <td>0</td>\n",
       "    </tr>\n",
       "    <tr>\n",
       "      <th>2</th>\n",
       "      <td>377</td>\n",
       "      <td>gate_40</td>\n",
       "      <td>165</td>\n",
       "      <td>True</td>\n",
       "      <td>False</td>\n",
       "      <td>1</td>\n",
       "      <td>0</td>\n",
       "    </tr>\n",
       "    <tr>\n",
       "      <th>3</th>\n",
       "      <td>483</td>\n",
       "      <td>gate_40</td>\n",
       "      <td>1</td>\n",
       "      <td>False</td>\n",
       "      <td>False</td>\n",
       "      <td>0</td>\n",
       "      <td>0</td>\n",
       "    </tr>\n",
       "    <tr>\n",
       "      <th>4</th>\n",
       "      <td>488</td>\n",
       "      <td>gate_40</td>\n",
       "      <td>179</td>\n",
       "      <td>True</td>\n",
       "      <td>True</td>\n",
       "      <td>1</td>\n",
       "      <td>1</td>\n",
       "    </tr>\n",
       "  </tbody>\n",
       "</table>\n",
       "</div>"
      ],
      "text/plain": [
       "   userid  version  sum_gamerounds  retention_1  retention_7  retention_1_num  \\\n",
       "0     116  gate_30               3        False        False                0   \n",
       "1     337  gate_30              38         True        False                1   \n",
       "2     377  gate_40             165         True        False                1   \n",
       "3     483  gate_40               1        False        False                0   \n",
       "4     488  gate_40             179         True         True                1   \n",
       "\n",
       "   retention_7_num  \n",
       "0                0  \n",
       "1                0  \n",
       "2                0  \n",
       "3                0  \n",
       "4                1  "
      ]
     },
     "execution_count": 14,
     "metadata": {},
     "output_type": "execute_result"
    }
   ],
   "source": [
    "data.head()"
   ]
  },
  {
   "cell_type": "code",
   "execution_count": 47,
   "id": "c7788331",
   "metadata": {},
   "outputs": [
    {
     "data": {
      "text/plain": [
       "Text(0.5, 1.0, 'Boxplot Kolom ')"
      ]
     },
     "execution_count": 47,
     "metadata": {},
     "output_type": "execute_result"
    },
    {
     "data": {
      "image/png": "[encoded data removed]",
      "text/plain": [
       "<Figure size 432x288 with 1 Axes>"
      ]
     },
     "metadata": {
      "needs_background": "light"
     },
     "output_type": "display_data"
    }
   ],
   "source": [
    "plt.figure(figsize=(7,5)) \n",
    "plt.title(\"Percentage of Stroke Status (1 Yes, 0 No)\", fontsize = 12,fontweight=\"bold\")\n",
    "sns.boxplot(data[\"sum_gamerounds\"], palette=\"mako\").set_title(\"Boxplot Kolom \",weight='bold')        "
   ]
  },
  {
   "cell_type": "code",
   "execution_count": 16,
   "id": "db8cf011",
   "metadata": {},
   "outputs": [
    {
     "data": {
      "text/html": [
       "<div>\n",
       "<style scoped>\n",
       "    .dataframe tbody tr th:only-of-type {\n",
       "        vertical-align: middle;\n",
       "    }\n",
       "\n",
       "    .dataframe tbody tr th {\n",
       "        vertical-align: top;\n",
       "    }\n",
       "\n",
       "    .dataframe thead th {\n",
       "        text-align: right;\n",
       "    }\n",
       "</style>\n",
       "<table border=\"1\" class=\"dataframe\">\n",
       "  <thead>\n",
       "    <tr style=\"text-align: right;\">\n",
       "      <th></th>\n",
       "      <th>userid</th>\n",
       "      <th>version</th>\n",
       "      <th>sum_gamerounds</th>\n",
       "      <th>retention_1</th>\n",
       "      <th>retention_7</th>\n",
       "      <th>retention_1_num</th>\n",
       "      <th>retention_7_num</th>\n",
       "    </tr>\n",
       "  </thead>\n",
       "  <tbody>\n",
       "    <tr>\n",
       "      <th>57702</th>\n",
       "      <td>6390605</td>\n",
       "      <td>gate_30</td>\n",
       "      <td>49854</td>\n",
       "      <td>False</td>\n",
       "      <td>True</td>\n",
       "      <td>0</td>\n",
       "      <td>1</td>\n",
       "    </tr>\n",
       "  </tbody>\n",
       "</table>\n",
       "</div>"
      ],
      "text/plain": [
       "        userid  version  sum_gamerounds  retention_1  retention_7  \\\n",
       "57702  6390605  gate_30           49854        False         True   \n",
       "\n",
       "       retention_1_num  retention_7_num  \n",
       "57702                0                1  "
      ]
     },
     "execution_count": 16,
     "metadata": {},
     "output_type": "execute_result"
    }
   ],
   "source": [
    "data[data[\"sum_gamerounds\"]>40000]"
   ]
  },
  {
   "cell_type": "code",
   "execution_count": 17,
   "id": "29d26d7b",
   "metadata": {},
   "outputs": [],
   "source": [
    "data_drop = data.drop(labels=57702, axis=0)"
   ]
  },
  {
   "cell_type": "code",
   "execution_count": 18,
   "id": "28ef0d69",
   "metadata": {},
   "outputs": [
    {
     "data": {
      "text/plain": [
       "Text(0.5, 1.0, 'Boxplot sum_gamerounds ')"
      ]
     },
     "execution_count": 18,
     "metadata": {},
     "output_type": "execute_result"
    },
    {
     "data": {
      "image/png": "[encoded data removed]",
      "text/plain": [
       "<Figure size 432x288 with 1 Axes>"
      ]
     },
     "metadata": {
      "needs_background": "light"
     },
     "output_type": "display_data"
    }
   ],
   "source": [
    "plt.figure(figsize=(7,5)) \n",
    "plt.title(\"Percentage of Stroke Status (1 Yes, 0 No)\", fontsize = 12,fontweight=\"bold\")\n",
    "sns.boxplot(data_drop[\"sum_gamerounds\"], palette=\"mako\").set_title(\"Boxplot sum_gamerounds \",weight='bold')    "
   ]
  },
  {
   "cell_type": "code",
   "execution_count": 36,
   "id": "ae8a3944",
   "metadata": {},
   "outputs": [],
   "source": [
    "IQR = 51 - 5\n",
    "upp = 51+((IQR)*1.5)"
   ]
  },
  {
   "cell_type": "code",
   "execution_count": 39,
   "id": "f54b56f7",
   "metadata": {},
   "outputs": [],
   "source": [
    "data_no_outliers = data.loc[data[\"sum_gamerounds\"] <  upp ]"
   ]
  },
  {
   "cell_type": "code",
   "execution_count": 40,
   "id": "be07b312",
   "metadata": {},
   "outputs": [
    {
     "data": {
      "text/plain": [
       "Text(0.5, 1.0, 'Boxplot sum_gamerounds ')"
      ]
     },
     "execution_count": 40,
     "metadata": {},
     "output_type": "execute_result"
    },
    {
     "data": {
      "image/png": "[encoded data removed]",
      "text/plain": [
       "<Figure size 432x288 with 1 Axes>"
      ]
     },
     "metadata": {
      "needs_background": "light"
     },
     "output_type": "display_data"
    }
   ],
   "source": [
    "plt.figure(figsize=(7,5)) \n",
    "plt.title(\"Percentage of Stroke Status (1 Yes, 0 No)\", fontsize = 12,fontweight=\"bold\")\n",
    "sns.boxplot(data_no_outliers[\"sum_gamerounds\"], palette=\"mako\").set_title(\"Boxplot sum_gamerounds \",weight='bold')  "
   ]
  },
  {
   "cell_type": "code",
   "execution_count": 22,
   "id": "b127283a",
   "metadata": {},
   "outputs": [
    {
     "data": {
      "text/html": [
       "<div>\n",
       "<style scoped>\n",
       "    .dataframe tbody tr th:only-of-type {\n",
       "        vertical-align: middle;\n",
       "    }\n",
       "\n",
       "    .dataframe tbody tr th {\n",
       "        vertical-align: top;\n",
       "    }\n",
       "\n",
       "    .dataframe thead th {\n",
       "        text-align: right;\n",
       "    }\n",
       "</style>\n",
       "<table border=\"1\" class=\"dataframe\">\n",
       "  <thead>\n",
       "    <tr style=\"text-align: right;\">\n",
       "      <th></th>\n",
       "      <th>count</th>\n",
       "      <th>median</th>\n",
       "      <th>mean</th>\n",
       "      <th>std</th>\n",
       "      <th>max</th>\n",
       "    </tr>\n",
       "    <tr>\n",
       "      <th>version</th>\n",
       "      <th></th>\n",
       "      <th></th>\n",
       "      <th></th>\n",
       "      <th></th>\n",
       "      <th></th>\n",
       "    </tr>\n",
       "  </thead>\n",
       "  <tbody>\n",
       "    <tr>\n",
       "      <th>gate_30</th>\n",
       "      <td>44700</td>\n",
       "      <td>17</td>\n",
       "      <td>52.456264</td>\n",
       "      <td>256.716423</td>\n",
       "      <td>49854</td>\n",
       "    </tr>\n",
       "    <tr>\n",
       "      <th>gate_40</th>\n",
       "      <td>45489</td>\n",
       "      <td>16</td>\n",
       "      <td>51.298776</td>\n",
       "      <td>103.294416</td>\n",
       "      <td>2640</td>\n",
       "    </tr>\n",
       "  </tbody>\n",
       "</table>\n",
       "</div>"
      ],
      "text/plain": [
       "         count  median       mean         std    max\n",
       "version                                             \n",
       "gate_30  44700      17  52.456264  256.716423  49854\n",
       "gate_40  45489      16  51.298776  103.294416   2640"
      ]
     },
     "execution_count": 22,
     "metadata": {},
     "output_type": "execute_result"
    }
   ],
   "source": [
    "data.groupby(\"version\").sum_gamerounds.agg([\"count\", \"median\", \"mean\", \"std\", \"max\"])"
   ]
  },
  {
   "cell_type": "code",
   "execution_count": 61,
   "id": "e319c9ce",
   "metadata": {},
   "outputs": [
    {
     "data": {
      "text/plain": [
       "<matplotlib.legend.Legend at 0x1efea71b8e0>"
      ]
     },
     "execution_count": 61,
     "metadata": {},
     "output_type": "execute_result"
    },
    {
     "data": {
      "image/png": "[encoded data removed]",
      "text/plain": [
       "<Figure size 1080x504 with 1 Axes>"
      ]
     },
     "metadata": {
      "needs_background": "light"
     },
     "output_type": "display_data"
    }
   ],
   "source": [
    "sns.set_palette(\"Blues\")\n",
    "plt.figure(figsize=(15,7))\n",
    "ax = sns.distplot(data_drop[data_drop[\"version\"]==\"gate_30\"][\"sum_gamerounds\"], label=\"gate_30\",color='blue')\n",
    "ax = sns.distplot(data_drop[data_drop[\"version\"]==\"gate_40\"][\"sum_gamerounds\"], label= \"gate_40\",color='skyblue')\n",
    "ax.set_title('Percentage of Gender',fontweight=\"bold\")\n",
    "plt.grid()\n",
    "plt.legend()"
   ]
  },
  {
   "cell_type": "code",
   "execution_count": 59,
   "id": "0ad28592",
   "metadata": {},
   "outputs": [],
   "source": [
    "ret1 = data.groupby(by='version')['retention_1_num'].sum() / data.groupby(\n",
    "    by='version')['retention_1_num'].count() * 100.0"
   ]
  },
  {
   "cell_type": "code",
   "execution_count": 62,
   "id": "1dfb8b28",
   "metadata": {},
   "outputs": [
    {
     "data": {
      "image/png": "[encoded data removed]",
      "text/plain": [
       "<Figure size 504x360 with 1 Axes>"
      ]
     },
     "metadata": {
      "needs_background": "light"
     },
     "output_type": "display_data"
    }
   ],
   "source": [
    "plt.figure(figsize=(7,5)) \n",
    "plt.title(\"Persentase version berdasarkan retention_1\", fontsize = 12,fontweight=\"bold\")\n",
    "ax=ret1.plot(kind=\"bar\")"
   ]
  },
  {
   "cell_type": "code",
   "execution_count": 65,
   "id": "030099c7",
   "metadata": {},
   "outputs": [],
   "source": [
    "rat2 = data.groupby(by='version')['retention_7_num'].sum() / data.groupby(\n",
    "    by='version')['retention_7_num'].count() * 100.0"
   ]
  },
  {
   "cell_type": "code",
   "execution_count": 66,
   "id": "65d66ce0",
   "metadata": {},
   "outputs": [
    {
     "data": {
      "image/png": "[encoded data removed]",
      "text/plain": [
       "<Figure size 504x360 with 1 Axes>"
      ]
     },
     "metadata": {
      "needs_background": "light"
     },
     "output_type": "display_data"
    }
   ],
   "source": [
    "plt.figure(figsize=(7,5)) \n",
    "plt.title(\"Persentase version berdasarkan retention_7\", fontsize = 12,fontweight=\"bold\")\n",
    "ax=rat2.plot(kind=\"bar\")"
   ]
  },
  {
   "cell_type": "markdown",
   "id": "76f67100",
   "metadata": {},
   "source": [
    "### Perform A/B Testing"
   ]
  },
  {
   "cell_type": "markdown",
   "id": "ce0c79fc",
   "metadata": {},
   "source": [
    "Akan dilihat apakah gate_30 dan gate_40 memberikan hasil yang berbeda atau tidak pada banyaknya game rounds yang dimainkan"
   ]
  },
  {
   "cell_type": "code",
   "execution_count": 67,
   "id": "fa418abd",
   "metadata": {},
   "outputs": [],
   "source": [
    "import numpy as np\n",
    "from scipy import stats"
   ]
  },
  {
   "cell_type": "markdown",
   "id": "4d1dc5c3",
   "metadata": {},
   "source": [
    "#### Using Manual Equations"
   ]
  },
  {
   "cell_type": "code",
   "execution_count": 68,
   "id": "1979a238",
   "metadata": {},
   "outputs": [
    {
     "data": {
      "text/plain": [
       "version\n",
       "gate_30    52.456264\n",
       "gate_40    51.298776\n",
       "Name: sum_gamerounds, dtype: float64"
      ]
     },
     "execution_count": 68,
     "metadata": {},
     "output_type": "execute_result"
    }
   ],
   "source": [
    "rataan = data.groupby('version').mean()['sum_gamerounds']\n",
    "rataan"
   ]
  },
  {
   "cell_type": "code",
   "execution_count": 69,
   "id": "801c0e9a",
   "metadata": {},
   "outputs": [
    {
     "data": {
      "text/plain": [
       "version\n",
       "gate_30    256.716423\n",
       "gate_40    103.294416\n",
       "Name: sum_gamerounds, dtype: float64"
      ]
     },
     "execution_count": 69,
     "metadata": {},
     "output_type": "execute_result"
    }
   ],
   "source": [
    "std = data.groupby('version').std()['sum_gamerounds']\n",
    "std"
   ]
  },
  {
   "cell_type": "code",
   "execution_count": 71,
   "id": "25f33b2a",
   "metadata": {},
   "outputs": [
    {
     "data": {
      "text/plain": [
       "version\n",
       "gate_30    44700\n",
       "gate_40    45489\n",
       "Name: sum_gamerounds, dtype: int64"
      ]
     },
     "execution_count": 71,
     "metadata": {},
     "output_type": "execute_result"
    }
   ],
   "source": [
    "cnt = data.groupby('version').count()['sum_gamerounds']\n",
    "cnt"
   ]
  },
  {
   "cell_type": "code",
   "execution_count": 73,
   "id": "72615a98",
   "metadata": {},
   "outputs": [],
   "source": [
    "t_hitung = (\n",
    "    rataan.iloc[0] - rataan.iloc[1]\n",
    ")/ np.sqrt(\n",
    "    (std.iloc[0]**2/cnt.iloc[0]) + (std.iloc[1]**2/cnt.iloc[1])\n",
    ")\n",
    "\n",
    "df = cnt.iloc[0] + cnt.iloc[1] - 2\n",
    "\n",
    "p_value = (1 - stats.t.cdf(t_hitung, df=df))*2"
   ]
  },
  {
   "cell_type": "code",
   "execution_count": 75,
   "id": "56115c7b",
   "metadata": {},
   "outputs": [
    {
     "data": {
      "text/plain": [
       "0.8854374331270669"
      ]
     },
     "execution_count": 75,
     "metadata": {},
     "output_type": "execute_result"
    }
   ],
   "source": [
    "t_hitung"
   ]
  },
  {
   "cell_type": "code",
   "execution_count": 76,
   "id": "acad6ecc",
   "metadata": {},
   "outputs": [
    {
     "data": {
      "text/plain": [
       "0.37592311132601663"
      ]
     },
     "execution_count": 76,
     "metadata": {},
     "output_type": "execute_result"
    }
   ],
   "source": [
    "p_value"
   ]
  },
  {
   "cell_type": "markdown",
   "id": "9d556ecb",
   "metadata": {},
   "source": [
    "#### Using Package Spicy"
   ]
  },
  {
   "cell_type": "code",
   "execution_count": 77,
   "id": "5e0af7e8",
   "metadata": {},
   "outputs": [],
   "source": [
    "t, p = stats.ttest_ind(\n",
    "    data.loc[data['version'] == \"gate_30\", 'sum_gamerounds'].values, \n",
    "    data.loc[data['version'] == \"gate_40\", 'sum_gamerounds'].values, \n",
    "    equal_var=False\n",
    ")"
   ]
  },
  {
   "cell_type": "code",
   "execution_count": 79,
   "id": "fb6d8e89",
   "metadata": {},
   "outputs": [
    {
     "data": {
      "text/plain": [
       "0.8854374331270672"
      ]
     },
     "execution_count": 79,
     "metadata": {},
     "output_type": "execute_result"
    }
   ],
   "source": [
    "t"
   ]
  },
  {
   "cell_type": "code",
   "execution_count": 80,
   "id": "4af36943",
   "metadata": {},
   "outputs": [
    {
     "data": {
      "text/plain": [
       "0.37592438409326223"
      ]
     },
     "execution_count": 80,
     "metadata": {},
     "output_type": "execute_result"
    }
   ],
   "source": [
    "p"
   ]
  },
  {
   "cell_type": "markdown",
   "id": "d5ce46fb",
   "metadata": {},
   "source": [
    "### Kesimpulan"
   ]
  },
  {
   "cell_type": "markdown",
   "id": "ec3a2ac0",
   "metadata": {},
   "source": [
    "Perhatikan bahwa nilai p_value = 0.376, baik menggunakan cara manual maupun package, sangatlah kecil jika dibandingkan dengan nilai level of significance (alpha = 0.05). Artinya, hipotesis null tidak ditolak, tidak ada perbedaan yang signifikan pada kedua kelompok version tersebut. Jika dilihat hasil visualisasi pun, baik gate_30 maupun gate_40 tidak terdapat perbedaan yang berarti pada kedua kelompok tersebut."
   ]
  },
  {
   "cell_type": "code",
   "execution_count": null,
   "id": "278b480c",
   "metadata": {},
   "outputs": [],
   "source": []
  }
 ],
 "metadata": {
  "kernelspec": {
   "display_name": "Python 3",
   "language": "python",
   "name": "python3"
  },
  "language_info": {
   "codemirror_mode": {
    "name": "ipython",
    "version": 3
   },
   "file_extension": ".py",
   "mimetype": "text/x-python",
   "name": "python",
   "nbconvert_exporter": "python",
   "pygments_lexer": "ipython3",
   "version": "3.8.8"
  }
 },
 "nbformat": 4,
 "nbformat_minor": 5
}
